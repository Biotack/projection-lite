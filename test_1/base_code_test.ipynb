import pandas as pd
from datetime import datetime, timedelta
from pandas.tseries.offsets import DateOffset
from IPython import display
import numpy as np

csv_file = '/Users/tersebookpro/Code/Scripts/testVint.csv'
df = pd.read_csv(csv_file)
df.fillna(0, inplace=True)
pd.set_option('display.max_columns', None)

month_map = {
    'January': 1,
    'February': 2,
    'March': 3,
    'April': 4,
    'May': 5,
    'June': 6,
    'July': 7,
    'August': 8,
    'September': 9,
    'October': 10,
    'November': 11,
    'December': 12
}

def lambda_test(string:str):
    if string == "Immediate":
        return df['Sales_Plan_2025'] *  2
    else:
        return "not tested"
    

def create_year_string(col):
    return col.split("_")[-1]

def extract_first_year(list:list):
    result = str.split(list[0], "_")[-1] if list else None
    return result

def extract_last_year(list:list):
    result = str.split(list[-1], "_")[-1] if list else None
    return result

def return_correct_year(list:list, num:int):
    first_year = extract_first_year(list)
    last_year = extract_last_year(list)
    

#Handle Inv Cols
inv_plan_cols = [col for col in df.columns if col.startswith("Inventory_")]
inv_first_col_year = extract_first_year(inv_plan_cols)
inv_last_col_year = extract_last_year(inv_plan_cols)

#Handle Sales Cols
sales_plan_cols = [col for col in df.columns if col.startswith("Sales_Plan_")]
sales_first_col_year = extract_first_year(sales_plan_cols)
sales_last_col_year = extract_last_year(sales_plan_cols)

# Create Average Sales Column
average_col = df[sales_plan_cols].mean(axis=1)
df['Month_add'] = pd.to_numeric(df['Month_add'], errors='coerce')

if sales_plan_cols:
    last_sales_plan_idx = df.columns.get_loc(sales_plan_cols[-1])
    df.insert(last_sales_plan_idx+1, 'Average_Sales', average_col)

def actual_release_calc(col: str, release_col):
    year = create_year_string(col)
    if year == inv_first_col_year:
        return current_date + int(df)
    addition = release_col.apply(lambda x: DateOffset(months=x) + df[f'Inventory_Runout_{year}'])
    result = pd.to_datetime(addition, errors='coerce')
    return result


#Create Current Date column
day_var = 1
month_var = 6 #CHANGE MONTH HERE
current_date = datetime.today().date()
first_day_of_current_month = current_date.replace(month = month_var, day=day_var)
print(first_day_of_current_month)
formatted_date = first_day_of_current_month.strftime("%Y-%m-%d")
df.insert(df.columns.get_loc('Month_add') +1,'Current_date', pd.to_datetime(formatted_date, errors='coerce'))

    
#     
#         # create_balance_of_years(df, 2025,2030)


    
display.display((df))

#Main Loop - iterates through each row, and for each row iterates through each sales year, and for each sales year iterates through the inventory years starting at the current sales year.
for row in df.itertuples():
    indexer = 0 # controls skipping columns that have already been utilized
    inventory_utilized = 0 #inventory that has been decremented by sales, and is being passed to the next sales year, or removed as already utilized
    inventory_carryover = 0 #inventory carried forward from one year to the next that needs to be divided by the monthly sales value
    sales_carryover = 0 #This is currently the difference between the samles value and the inventory value - carried forwardward as a variable so that it can be removed from the next inventory value.
    months_stored = 0
    total_sales = 0
    total_inventory = 0
    for sal_col in sales_plan_cols:
        
        
        sale_value = getattr(row, sal_col)
        total_sales +=sale_value
        monthly_sale_value = sale_value / 12
        for col in inv_plan_cols[indexer:]:
            year = create_year_string(col)
            inv_value = getattr(row, col)
            total_inventory += inv_value
            print(f'sales carryover: {sales_carryover}, inventory_carryover: {inventory_carryover} entering loop with Sales_Plan index: {sales_plan_cols.index(sal_col)}, inventory: {inv_value}, sales: {sale_value}, monthly_sales: {monthly_sale_value} row: {row.Index} and {col} - indexer: {indexer}, months_stored: {months_stored}')
            
            if inv_value == 0: # good
                months_stored = int(inv_value)
                #This sets all items that are 0 bulk to 0 inventory runout.
                df.loc[row.Index, f'Runout_Months_{year}'] = months_stored
                print(f'Setting row: {row.Index} to {months_stored} for {year}')
                months_stored = 0
                indexer += 1
                
            elif (inventory_carryover == 0) and (sales_carryover == 0):
                #This logic handles issues at the beginning of the loop for inventory where there is no carryover.
                take_value = min(sale_value, inv_value) #(101, 70)
                sales_difference = sale_value - take_value #31 = 101 - 70
                inventory_difference = inv_value - take_value #0 = 70 - 70
                
                if (sales_difference == 0) and (inventory_difference == 0):
                    #This is the case where there is no sales difference and no inventory difference.
                    months_stored = inv_value/(monthly_sale_value)
                    df.loc[row.Index, f'Runout_Months_{year}'] = months_stored
                    print(f'Setting row: {row.Index} to {months_stored} for {year}, monthly sale value: {monthly_sale_value}')
                    inventory_utilized = 0
                    inventory_carryover = 0
                    sales_carryover = 0
                    months_stored = 0
                    indexer += 1
                    break
                
                if sales_difference == 0:
                    #more inventory than sales - need to pass the utilized sales and the sales remaining to the next year.   This is currently being handled by the inventory utilized variable.
                    months_stored += sale_value/(monthly_sale_value) # should be 12 months
                    print(f"more inventory than sales! - storing {months_stored} months")
                    inventory_carryover = inventory_difference # need this to be divided by the next sales_plan
                    print(f"row: {row.Index}, inventory col: {col}, sale col: {sal_col}, inventory_carryover: {inventory_carryover}, months_stored: {months_stored}")
                    break
                
                if inventory_difference == 0:
                    #more sales than inventory
                    months_stored = int(inv_value/(monthly_sale_value)) # should be 12 months
                    df.loc[row.Index, f'Runout_Months_{year}'] = months_stored
                    inventory_utilized = 0
                    inventory_carryover = 0
                    sales_carryover = sales_difference
                    print(f'Setting row: {row.Index} to {months_stored} for {year}, monthly sale value: {monthly_sale_value}')
                    months_stored = 0
                    indexer += 1
            
            elif (inventory_carryover == 0) and (sales_carryover != 0):
                take_value = min(sales_carryover, inv_value) #(56, 50)
                sales_difference = sales_carryover - take_value #(56 - 50) = 11
                inventory_difference = inv_value - take_value #0 = 50 - 50
                
                if sales_difference == 0:
                    print(f"sales loop for test: entering loop with sale col {sales_plan_cols.index(sal_col)}, sales: {sale_value}, row: {row.Index} and {col} - indexer: {indexer}")
                    months_stored = sales_carryover/(monthly_sale_value) # should be 12 months
                    inventory_carryover = inventory_difference # need this to be divided by the next sales_plan
                    sales_carryover = 0
                    break
                
                if inventory_difference == 0:
                    result = int(inv_value/(monthly_sale_value))
                    df.loc[row.Index, f'Runout_Months_{year}'] = result
                    print(f'Setting row: {row.Index} to {months_stored} for {year}, monthly sale value: {monthly_sale_value}')
                    inventory_carryover = 0
                    inventory_utilized = 0
                    sales_carryover = sales_difference
                    indexer += 1
            
            elif (inventory_carryover != 0) and (sales_carryover == 0):
                print(f"entered the loop with inventory carryover non-zero inventory_carryover: {inventory_carryover}, sales_carryover: {sales_carryover}, sale_value: {sale_value}, monthly_sale_value: {monthly_sale_value}")
                take_value = min(sale_value, inventory_carryover) #(50, 44)
                sales_difference = sale_value - take_value #6 = 50 - 44
                inventory_difference = inventory_carryover - take_value #0 = 44 - 44
                
                if sales_difference == 0:
                    #more inventory than sales
                    print(f'SALES LOOP FOR TEST: entering loop with {sales_plan_cols.index(sal_col)}, sales: {sale_value}, row: {row.Index} and {col} - indexer: {indexer}')
                    months_stored += sale_value/(monthly_sale_value) # should be 12 months
                    inventory_carryover = inventory_difference
                    print(f"{inventory_carryover} inventory, months_stored: {months_stored}")
                    break
                
                if inventory_difference == 0:
                    #more sales than inventory
                    print("inventory difference is 0")
                    print(f"row: {row.Index}, sale col: {sal_col}, months_stored: {months_stored}, inventory_carryover: {inventory_carryover}, sales_carryover: {sales_carryover}, monthly_sale_value: {monthly_sale_value}")
                    result = int(months_stored + (inventory_carryover/(monthly_sale_value)))
                    df.loc[row.Index, f'Runout_Months_{year}'] = result
                    inventory_carryover = 0
                    months_stored = 0
                    sales_carryover = sales_difference
                    print(f'Setting row: {row.Index} to {result} months for {year}, monthly sale value: {monthly_sale_value}, sales_carryover: {sales_carryover}')
                    indexer += 1
print(f'total_sales: {total_sales}')
print(f'total_inventory: {total_inventory}')
#Todo:   
# Verify math on other columns. - done - appears to be working
#create total sales and total inventory columns.
#figure out how to step down the balances from the total differential
#load columns back in for extra columns created above but hidden now.
#Create the balance of years logic.

#generates runout calculations and ideal release dates
for col in inv_plan_cols:
    index = df.columns.get_loc(col)
    year = create_year_string(col)  # Extract the year from the column name
    move_col_name = f'Runout_Months_{year}'
    move_col = df.pop(move_col_name)
    df.insert(index + 1, f'Runout_Months_{year}', move_col)
    
    
    start_year_string = f"{year}-01-01"
    # generate the ideal runout name
    
    #convert the start year string to a datetime object
    start_date = pd.to_datetime(start_year_string)
    #calculate the ideal release date
    ideal_release_pre = (start_date + df['Month_add'].apply(lambda x: DateOffset(months=x)))
    ideal_release = pd.to_datetime(ideal_release_pre, errors='coerce')
    df.insert(df.columns.get_loc(col)+1, f'Ideal_Release_{year}', ideal_release) #Can extract year with .year

    if year == inv_first_col_year:
        check_result = df['Current_date'] + df[f'Runout_Months_{year}'].apply(lambda x: DateOffset(months=x))
        actual_runout = pd.to_datetime(check_result, errors='coerce')
        df.insert(df.columns.get_loc(f'Runout_Months_{year}')+1, f'Actual_Runout_{year}', actual_runout) #Can extract year with .year
        math_actual = (((df['Actual_Runout_' + str(int(year))] - df['Ideal_Release_' + str(int(year))])/np.timedelta64(1, 'D'))/30).astype(int)
        df.insert(df.columns.get_loc(f'Actual_Runout_{year}')+1, f'Off_Ideal_{year}', math_actual)
    elif year < inv_last_col_year:
        check_result = pd.to_datetime(df['Actual_Runout_' + str(int(year) - 1)]) + df[f'Runout_Months_{year}'].apply(lambda x: DateOffset(months=x))
        actual_runout = pd.to_datetime(check_result, errors='coerce')
        df.insert(df.columns.get_loc(f'Runout_Months_{year}')+1, f'Actual_Runout_{year}', actual_runout) #Can extract year with .year
        math_actual = (((df['Actual_Runout_' + str(int(year))] - df['Ideal_Release_' + str(int(year))])/np.timedelta64(1, 'D'))/30).astype(int)
        df.insert(df.columns.get_loc(f'Actual_Runout_{year}')+1, f'Off_Ideal_{year}', math_actual)
#Generate Grape Need into Future
    if year == inv_last_col_year:
        check_result = pd.to_datetime(df['Actual_Runout_' + str(int(year) - 1)]) + df[f'Runout_Months_{year}'].apply(lambda x: DateOffset(months=x))
        actual_runout = pd.to_datetime(check_result, errors='coerce')
        actual_runout_year = actual_runout.dt.year
        print(actual_runout_year)
        df.insert(df.columns.get_loc(f'Runout_Months_{year}')+1, f'Actual_Runout_{year}', actual_runout) #Can extract year with .year
        math_actual = (((df['Actual_Runout_' + str(int(year))] - df['Ideal_Release_' + str(int(year))])/np.timedelta64(1, 'D'))/30).astype(int)
        df.insert(df.columns.get_loc(f'Actual_Runout_{year}')+1, f'Off_Ideal_{year}', math_actual)
    
display.display(df)




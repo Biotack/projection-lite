import pandas as pd
from datetime import datetime, timedelta
from pandas.tseries.offsets import DateOffset
from IPython import display
import numpy as np

csv_file = '/Users/tersebookpro/Code/Scripts/testVint.csv'
df = pd.read_csv(csv_file)
df.fillna(0, inplace=True)
pd.set_option('display.max_columns', None)

month_map = {
    'January': 1,
    'February': 2,
    'March': 3,
    'April': 4,
    'May': 5,
    'June': 6,
    'July': 7,
    'August': 8,
    'September': 9,
    'October': 10,
    'November': 11,
    'December': 12
}

def lambda_test(string:str):
    if string == "Immediate":
        return df['Sales_Plan_2025'] *  2
    else:
        return "not tested"
    

def create_year_string(col):
    return col.split("_")[-1]

def extract_first_year(list:list):
    result = str.split(list[0], "_")[-1] if list else None
    return result

def extract_last_year(list:list):
    result = str.split(list[-1], "_")[-1] if list else None
    return result

def return_correct_year(list:list, num:int):
    first_year = extract_first_year(list)
    last_year = extract_last_year(list)
    

#Handle Inv Cols
inv_plan_cols = [col for col in df.columns if col.startswith("Inventory_")]
inv_first_col_year = extract_first_year(inv_plan_cols)
inv_last_col_year = extract_last_year(inv_plan_cols)

#Handle Sales Cols
sales_plan_cols = [col for col in df.columns if col.startswith("Sales_Plan_")]
sales_first_col_year = extract_first_year(sales_plan_cols)
sales_last_col_year = extract_last_year(sales_plan_cols)

# Create Average Sales Column
average_col = df[sales_plan_cols].mean(axis=1)

df['Month_add'] = pd.to_numeric(df['Month_add'], errors='coerce')

if sales_plan_cols:
    last_sales_plan_idx = df.columns.get_loc(sales_plan_cols[-1])
    df.insert(last_sales_plan_idx+1, 'Average_Sales', average_col)

def actual_release_calc(col: str, release_col):
    year = create_year_string(col)
    if year == inv_first_col_year:
        return current_date + int(df)
    addition = release_col.apply(lambda x: DateOffset(months=x) + df[f'Inventory_Runout_{year}'])
    result = pd.to_datetime(addition, errors='coerce')
    return result

#Create Function to Generate Balance - 2025 to 2030
def create_balance_of_years(df: pd.DataFrame, start_year: int, end_year: int) -> pd.DataFrame:
    initial_index = df.columns.get_loc('Actual_Runout_' + str(int(start_year) - 1))
    #Formatting the new sales plan*      
    # df['New_Sales_Plan'] = df.apply(lambda x: 
    # x['Sales_Plan_2025'] * 1.5 if x['StepDownPolicy'] == 'Immediate' 
    # else (x['Sales_Plan_2025'] * 1.9 if x['StepDownPolicy'] == 'Cascade' else None), axis=1)
    for year in range(start_year, end_year + 1):
        col_name = f"Future_{year}"
        col_name_calc = df['Average_Sales'] * (year - start_year + 1)
        if year == start_year:
            df.insert(initial_index + 1, col_name, col_name_calc)
        else:
            balance_index_for_insertion = df.columns.get_loc('Future_' + str(int(year - 1)))
            df.insert(balance_index_for_insertion + 1, col_name, col_name_calc)
    return df

divide_by_12 = round(df['Average_Sales'] / 12,0).astype(int)
#Create Current Date column
current_date = datetime.today().date()
formatted_date = current_date.strftime("%Y-%m-%d")
df.insert(df.columns.get_loc('Month_add') +1,'Current_date', pd.to_datetime(current_date, errors='coerce'))

df.insert(df.columns.get_loc('Average_Sales') + 1, 'Monthly_Average', divide_by_12)

for col in inv_plan_cols:
    index = df.columns.get_loc(col)
    year = create_year_string(col)  # Extract the year from the column name
    
    start_year_string = f"{year}-01-01"
    # generate the ideal runout name
    ideal_runout_name = f"Inventory_Runout_{year}"
    #convert the start year string to a datetime object
    start_date = pd.to_datetime(start_year_string)
    #calculate the ideal release date
    ideal_release_pre = (start_date + df['Month_add'].apply(lambda x: DateOffset(months=x)))
    ideal_release = pd.to_datetime(ideal_release_pre, errors='coerce')
    runout_months = (df[col] / df['Monthly_Average']).astype(int)
    #Insert columns into the DataFrame
    df.insert(index + 1, ideal_runout_name, runout_months)
    df.insert(index + 2, f"Ideal_Release_{year}", ideal_release)
    
    if year == inv_first_col_year:
        check_result = df['Current_date'] + df[f'Inventory_Runout_{year}'].apply(lambda x: DateOffset(months=x))
        actual_runout = pd.to_datetime(check_result, errors='coerce')
        df.insert(index + 3, f'Actual_Runout_{year}', actual_runout) #Can extract year with .year
    elif year < inv_last_col_year:
        check_result = pd.to_datetime(df['Actual_Runout_' + str(int(year) - 1)]) + df[f'Inventory_Runout_{year}'].apply(lambda x: DateOffset(months=x))
        actual_runout = pd.to_datetime(check_result, errors='coerce')
        df.insert(index + 3, f'Actual_Runout_{year}', actual_runout) #Can extract year with .year
#Generate Grape Need into Future
    if year == inv_last_col_year:
        check_result = pd.to_datetime(df['Actual_Runout_' + str(int(year) - 1)]) + df[f'Inventory_Runout_{year}'].apply(lambda x: DateOffset(months=x))
        actual_runout = pd.to_datetime(check_result, errors='coerce')
        df.insert(index + 3, f'Actual_Runout_{year}', actual_runout) #Can extract year with .year
        # create_balance_of_years(df, 2025,2030)


    
display.display((df))
